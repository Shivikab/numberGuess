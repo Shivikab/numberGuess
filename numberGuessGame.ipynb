{
 "cells": [
  {
   "cell_type": "code",
   "execution_count": 1,
   "id": "3fd716ae-34dc-48c2-94e0-3f9a0b07f7ec",
   "metadata": {},
   "outputs": [],
   "source": [
    "import random"
   ]
  },
  {
   "cell_type": "code",
   "execution_count": 2,
   "id": "1a42b2e3-8903-4117-9a37-9347d681ebfd",
   "metadata": {},
   "outputs": [
    {
     "data": {
      "text/plain": [
       "87"
      ]
     },
     "execution_count": 2,
     "metadata": {},
     "output_type": "execute_result"
    }
   ],
   "source": [
    "random.randint(1,100)"
   ]
  },
  {
   "cell_type": "code",
   "execution_count": null,
   "id": "502529c1-a58d-4af6-af67-537b2394dd3f",
   "metadata": {},
   "outputs": [],
   "source": [
    "jackpot = random.randint(1,100)\n",
    "guess = int(input(\"Guess karo kya hai number\"))\n",
    "count=1\n",
    "\n",
    "while guess!=jackpot : \n",
    "    if guess<jackpot : \n",
    "        print(\"Guess higher\")\n",
    "    else : \n",
    "        print(\"Guess lower\")\n",
    "\n",
    "    guess = int(input(\"Guess karo firse\"))\n",
    "    count+=1\n",
    "\n",
    "print(\"Ekdm correct\")\n",
    "print(\"Total attempts taken by you :\" , count)\n",
    "        "
   ]
  },
  {
   "cell_type": "code",
   "execution_count": null,
   "id": "32419e9a-860b-4129-94ac-9db5b5f0f54a",
   "metadata": {},
   "outputs": [],
   "source": []
  }
 ],
 "metadata": {
  "kernelspec": {
   "display_name": "Python 3 (ipykernel)",
   "language": "python",
   "name": "python3"
  },
  "language_info": {
   "codemirror_mode": {
    "name": "ipython",
    "version": 3
   },
   "file_extension": ".py",
   "mimetype": "text/x-python",
   "name": "python",
   "nbconvert_exporter": "python",
   "pygments_lexer": "ipython3",
   "version": "3.12.7"
  }
 },
 "nbformat": 4,
 "nbformat_minor": 5
}
